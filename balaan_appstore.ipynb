{
 "cells": [
  {
   "cell_type": "code",
   "execution_count": 15,
   "id": "d5dd611f",
   "metadata": {},
   "outputs": [
    {
     "name": "stdout",
     "output_type": "stream",
     "text": [
      "Collecting xmltodict\n",
      "  Downloading xmltodict-0.13.0-py2.py3-none-any.whl (10.0 kB)\n",
      "Installing collected packages: xmltodict\n",
      "Successfully installed xmltodict-0.13.0\n",
      "Note: you may need to restart the kernel to use updated packages.\n"
     ]
    }
   ],
   "source": [
    "pip install xmltodict"
   ]
  },
  {
   "cell_type": "code",
   "execution_count": 21,
   "id": "9b2f0b9b",
   "metadata": {},
   "outputs": [
    {
     "name": "stdout",
     "output_type": "stream",
     "text": [
      "https://itunes.apple.com/kr/rss/customerreviews/page=1/id=1479010008/sortby=mostrecent/xml?urlDesc=/customerreviews/id=1479010008/sortBy=mostRecent/xml\n",
      "https://itunes.apple.com/kr/rss/customerreviews/page=2/id=1479010008/sortby=mostrecent/xml?urlDesc=/customerreviews/id=1479010008/sortBy=mostRecent/xml\n",
      "https://itunes.apple.com/kr/rss/customerreviews/page=3/id=1479010008/sortby=mostrecent/xml?urlDesc=/customerreviews/id=1479010008/sortBy=mostRecent/xml\n",
      "https://itunes.apple.com/kr/rss/customerreviews/page=4/id=1479010008/sortby=mostrecent/xml?urlDesc=/customerreviews/id=1479010008/sortBy=mostRecent/xml\n",
      "https://itunes.apple.com/kr/rss/customerreviews/page=5/id=1479010008/sortby=mostrecent/xml?urlDesc=/customerreviews/id=1479010008/sortBy=mostRecent/xml\n",
      "https://itunes.apple.com/kr/rss/customerreviews/page=6/id=1479010008/sortby=mostrecent/xml?urlDesc=/customerreviews/id=1479010008/sortBy=mostRecent/xml\n",
      "https://itunes.apple.com/kr/rss/customerreviews/page=7/id=1479010008/sortby=mostrecent/xml?urlDesc=/customerreviews/id=1479010008/sortBy=mostRecent/xml\n",
      "https://itunes.apple.com/kr/rss/customerreviews/page=8/id=1479010008/sortby=mostrecent/xml?urlDesc=/customerreviews/id=1479010008/sortBy=mostRecent/xml\n",
      "https://itunes.apple.com/kr/rss/customerreviews/page=9/id=1479010008/sortby=mostrecent/xml?urlDesc=/customerreviews/id=1479010008/sortBy=mostRecent/xml\n",
      "https://itunes.apple.com/kr/rss/customerreviews/page=10/id=1479010008/sortby=mostrecent/xml?urlDesc=/customerreviews/id=1479010008/sortBy=mostRecent/xml\n",
      "Save reviews to file: appstore_1479010008.csv \n",
      "\n"
     ]
    }
   ],
   "source": [
    "import pandas as pd\n",
    "import xmltodict\n",
    "import requests\n",
    "import os\n",
    "\n",
    "\n",
    "def get_url_index(url):\n",
    "    response = requests.get(url).content.decode('utf8')\n",
    "    xml = xmltodict.parse(response)\n",
    "\n",
    "    last_url = [l['@href'] for l in xml['feed']['link'] if (l['@rel'] == 'last')][0]\n",
    "    last_index = [int(s.replace('page=', '')) for s in last_url.split('/') if ('page=' in s)][0]\n",
    "\n",
    "    return last_index\n",
    "\n",
    "# https://stackoverflow.com/questions/1090282/api-to-monitor-iphone-app-store-reviews\n",
    "def appstore_crawler(appid, outfile='./appstore_reviews.csv'):\n",
    "    url = 'https://itunes.apple.com/kr/rss/customerreviews/page=1/id=%i/sortby=mostrecent/xml' % appid\n",
    "\n",
    "    try:\n",
    "        last_index = get_url_index(url)\n",
    "    except Exception as e:\n",
    "        print (url)\n",
    "        print ('\\tNo Reviews: appid %i' %appid)\n",
    "        print ('\\tException:', e)\n",
    "        return\n",
    "\n",
    "    result = list()\n",
    "    for idx in range(1, last_index+1):\n",
    "        url = \"https://itunes.apple.com/kr/rss/customerreviews/page=%i/id=%i/sortby=mostrecent/xml?urlDesc=/customerreviews/id=%i/sortBy=mostRecent/xml\" % (idx, appid, appid)\n",
    "        print(url)\n",
    "\n",
    "        response = requests.get(url).content.decode('utf8')\n",
    "        try:\n",
    "            xml = xmltodict.parse(response)\n",
    "        except Exception as e:\n",
    "            print ('\\tXml Parse Error %s\\n\\tSkip %s :' %(e, url))\n",
    "            continue\n",
    "\n",
    "        try:\n",
    "            num_reivews= len(xml['feed']['entry'])\n",
    "        except Exception as e:\n",
    "            print ('\\tNo Entry', e)\n",
    "            continue\n",
    "\n",
    "        try:\n",
    "            xml['feed']['entry'][0]['author']['name']\n",
    "            single_reviews = False\n",
    "        except:\n",
    "            #print ('\\tOnly 1 review!!!')\n",
    "            single_reviews = True\n",
    "            pass\n",
    "\n",
    "        if single_reviews:\n",
    "                result.append({\n",
    "                    'USER': xml['feed']['entry']['author']['name'],\n",
    "                    'DATE': xml['feed']['entry']['updated'],\n",
    "                    'STAR': int(xml['feed']['entry']['im:rating']),\n",
    "                    'LIKE': int(xml['feed']['entry']['im:voteSum']),\n",
    "                    'TITLE': xml['feed']['entry']['title'],\n",
    "                    'REVIEW': xml['feed']['entry']['content'][0]['#text'],\n",
    "                })\n",
    "        else:\n",
    "            for i in range(len(xml['feed']['entry'])):\n",
    "                result.append({\n",
    "                    'USER': xml['feed']['entry'][i]['author']['name'],\n",
    "                    'DATE': xml['feed']['entry'][i]['updated'],\n",
    "                    'STAR': int(xml['feed']['entry'][i]['im:rating']),\n",
    "                    'LIKE': int(xml['feed']['entry'][i]['im:voteSum']),\n",
    "                    'TITLE': xml['feed']['entry'][i]['title'],\n",
    "                    'REVIEW': xml['feed']['entry'][i]['content'][0]['#text'],\n",
    "                })\n",
    "\n",
    "    res_df = pd.DataFrame(result)\n",
    "    res_df['DATE'] = pd.to_datetime(res_df['DATE'], format=\"%Y-%m-%dT%H:%M:%S%z\")\n",
    "    res_df.to_csv(outfile, encoding='utf-8-sig', index=False)\n",
    "    print ('Save reviews to file: %s \\n' %(outfile))\n",
    "\n",
    "\n",
    "if __name__ == '__main__':\n",
    "   \n",
    "    app_id = 1479010008\n",
    "    outfile = os.path.join('appstore_' + str(app_id)+'.csv')\n",
    "    appstore_crawler(app_id, outfile=outfile)"
   ]
  },
  {
   "cell_type": "code",
   "execution_count": null,
   "id": "977c25ee",
   "metadata": {},
   "outputs": [],
   "source": []
  }
 ],
 "metadata": {
  "kernelspec": {
   "display_name": "Python 3 (ipykernel)",
   "language": "python",
   "name": "python3"
  },
  "language_info": {
   "codemirror_mode": {
    "name": "ipython",
    "version": 3
   },
   "file_extension": ".py",
   "mimetype": "text/x-python",
   "name": "python",
   "nbconvert_exporter": "python",
   "pygments_lexer": "ipython3",
   "version": "3.8.16"
  }
 },
 "nbformat": 4,
 "nbformat_minor": 5
}
